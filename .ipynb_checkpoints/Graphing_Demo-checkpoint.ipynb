{
 "cells": [
  {
   "cell_type": "markdown",
   "metadata": {},
   "source": [
    "# Plotting Examples"
   ]
  },
  {
   "cell_type": "code",
   "execution_count": 34,
   "metadata": {
    "collapsed": false
   },
   "outputs": [
    {
     "name": "stdout",
     "output_type": "stream",
     "text": [
      "\u001b[?1h\u001b=\n",
      "                            < M A T L A B (R) >\n",
      "                  Copyright 1984-2015 The MathWorks, Inc.\n",
      "                   R2015b (8.6.0.267246) 64-bit (maci64)\n",
      "                              August 20, 2015\n",
      "\n",
      " \n",
      "To get started, type one of these: helpwin, helpdesk, or demo.\n",
      "For product information, visit www.mathworks.com.\n",
      " \n",
      "    ----------------------------------------------------\n",
      "\tYour MATLAB license will expire in 22 days.\n",
      "\tPlease contact your system administrator or\n",
      "\tMathWorks to renew this license.\n",
      "    ----------------------------------------------------\n",
      "\n",
      "\tAcademic License\n",
      "\n",
      "\u001b[?1l\u001b>COS424_HW1_Precept.ipynb Graphing_Demo.ipynb      \u001b[34mdata\u001b[m\u001b[m\n",
      "Chroma.mat               LB.mat                   featureTable.png\n",
      "FV.mat                   README.md                \u001b[34mtools\u001b[m\u001b[m\n",
      "FV_concat.m              collect_chroma.m\n"
     ]
    }
   ],
   "source": [
    "workingdir = '/Users/Ted/__Princeton/__G2_Spring/__COS_424/voxDemo'\n",
    "!cd {workingdir} \n",
    "!/Applications/MATLAB_R2015b.app/bin/matlab -nodisplay -nosplash -nodesktop -r \"run('collect_chroma.m');exit;\"\n",
    "!ls"
   ]
  },
  {
   "cell_type": "code",
   "execution_count": 40,
   "metadata": {
    "collapsed": false
   },
   "outputs": [
    {
     "name": "stdout",
     "output_type": "stream",
     "text": [
      "[[ 525431.45476616]\n",
      " [ 459330.08183666]\n",
      " [ 488838.99967986]\n",
      " [ 411376.21368994]\n",
      " [ 423449.32157489]\n",
      " [ 386598.77690254]\n",
      " [ 350534.2946914 ]\n",
      " [ 537587.08170245]\n",
      " [ 603282.21193151]\n",
      " [ 612646.5400831 ]\n",
      " [ 545593.00517702]\n",
      " [ 530230.96545164]]\n"
     ]
    }
   ],
   "source": [
    "fileN = '/Users/Ted/__Princeton/__G2_Spring/__COS_424/voxDemo/Chroma.mat'\n",
    "X = spio.loadmat(fileN)['chroma'][0,:]\n",
    "totals = sum(X)\n",
    "print totals\n",
    "plt.figure()\n",
    "plt.title('Chroma for blues00003 frames')\n",
    "plt.xlabel('Chroma')\n",
    "plt.ylabel('Magnitude')\n",
    "plt.bar(range(0,totals.shape[0]),sum(totals.T))\n",
    "plt.show()"
   ]
  },
  {
   "cell_type": "markdown",
   "metadata": {},
   "source": [
    "# More Graphs!!!"
   ]
  },
  {
   "cell_type": "code",
   "execution_count": 15,
   "metadata": {
    "collapsed": false
   },
   "outputs": [
    {
     "name": "stdout",
     "output_type": "stream",
     "text": [
      "Average error 0: 60.97%\n",
      "Average error 1: 57.51%\n",
      "Average error 2: 49.60%\n",
      "Average error 3: 46.75%\n",
      "Average error 4: 46.24%\n",
      "Average error 5: 46.14%\n"
     ]
    }
   ],
   "source": [
    "import random as random\n",
    "import scipy.stats as stats\n",
    "from sklearn.ensemble import RandomForestClassifier\n",
    "from sklearn.metrics import zero_one_loss\n",
    "from sklearn.cross_validation import StratifiedKFold\n",
    "\n",
    "FVs = '/Users/Ted/__Princeton/__G2_Spring/__COS_424/voxDemo/FV.mat'\n",
    "LBs = '/Users/Ted/__Princeton/__G2_Spring/__COS_424/voxDemo/LB.mat'\n",
    "mfcc = spio.loadmat(FVs)['FV']\n",
    "labels = spio.loadmat(LBs)['LB'][0]\n",
    "N = mfcc.shape[1]\n",
    "\n",
    "\n",
    "k = 10\n",
    "\n",
    "\n",
    "nLearners = np.array([5,10,25,50,100,250])\n",
    "averageError = np.zeros(nLearners.shape)\n",
    "for i in range(0,len(nLearners)):\n",
    "    maxLearners = nLearners[i]\n",
    "    skf = StratifiedKFold(labels,n_folds=k)\n",
    "    for train_index, test_index in skf:\n",
    "        X_train, X_test = mfcc[:,train_index], mfcc[:,test_index]\n",
    "        y_train, y_test = labels[train_index], labels[test_index]\n",
    "        rf = RandomForestClassifier(n_estimators=maxLearners, max_depth = 5, warm_start = False)\n",
    "        rf.fit(X_train.T,y_train)\n",
    "        y_pred = rf.predict(X_test.T)\n",
    "        error = zero_one_loss(y_pred,y_test)\n",
    "        averageError[i] += (1./k) * error\n",
    "    print \"Average error %d: %4.2f%s\" % (i, 100 * averageError[i],'%')\n",
    "\n"
   ]
  },
  {
   "cell_type": "code",
   "execution_count": 17,
   "metadata": {
    "collapsed": false
   },
   "outputs": [
    {
     "data": {
      "image/png": "[encoded data removed]",
      "text/plain": [
       "<matplotlib.figure.Figure at 0x120f90fd0>"
      ]
     },
     "metadata": {},
     "output_type": "display_data"
    }
   ],
   "source": [
    "plt.figure()\n",
    "plt.plot(nLearners,averageError,'b',lw = 2)\n",
    "plt.plot(nLearners,np.ones(nLearners.shape) * 0.9,'r',lw = 1)\n",
    "plt.xlabel('Number of Learners')\n",
    "plt.ylabel('Error Rate')\n",
    "plt.title('Random Forest Performance')\n",
    "plt.show()"
   ]
  },
  {
   "cell_type": "code",
   "execution_count": null,
   "metadata": {
    "collapsed": true
   },
   "outputs": [],
   "source": []
  }
 ],
 "metadata": {
  "kernelspec": {
   "display_name": "Python 2",
   "language": "python",
   "name": "python2"
  },
  "language_info": {
   "codemirror_mode": {
    "name": "ipython",
    "version": 2
   },
   "file_extension": ".py",
   "mimetype": "text/x-python",
   "name": "python",
   "nbconvert_exporter": "python",
   "pygments_lexer": "ipython2",
   "version": "2.7.10"
  }
 },
 "nbformat": 4,
 "nbformat_minor": 0
}
