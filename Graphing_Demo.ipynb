{
 "cells": [
  {
   "cell_type": "markdown",
   "metadata": {},
   "source": [
    "# Plotting Examples"
   ]
  },
  {
   "cell_type": "code",
   "execution_count": 18,
   "metadata": {
    "collapsed": false
   },
   "outputs": [],
   "source": [
    "%matplotlib inline\n",
    "import matplotlib.pyplot as plt\n",
    "import seaborn as sns;\n",
    "import sys\n",
    "import random\n",
    "import scipy.io as spio\n",
    "import numpy as np\n",
    "import pandas as pd\n",
    "\n",
    "workingdir = !pwd\n",
    "workingdir = workingdir[0]\n",
    "\n",
    "#Load the mfcc data and lables\n",
    "X = spio.loadmat(workingdir + '/FullSongs.mat')\n",
    "mfcc = X['mfcc']\n",
    "lb = X['LB']\n",
    "#Plot the mean of the mfcc with each line colored by genre\n",
    "#compute the mean for each song\n",
    "means = []\n",
    "frames = []\n",
    "labels = []\n",
    "genres = [\"Blues\", \"Classical\", \"Country\", \"Disco\", \"Hiphop\", \"Jazz\", \"Metal\", \"Pop\", \"Reggae\", \"Rock\"]\n",
    "\n",
    "\n",
    "for i in range(1,11):\n",
    "    data = mfcc[lb == i]\n",
    "    #For each song\n",
    "    for j in range(len(data)):\n",
    "        test = data[j].T\n",
    "        N = len(np.mean(test, axis=1))\n",
    "        means = means + list(np.mean(test, axis=1))\n",
    "        frames = frames +  range(N)\n",
    "        labels = labels + [i for k in range(N)] \n",
    "df = pd.DataFrame(data = zip(labels, frames, means), columns=['LB', 'Frame', 'Mean'])\n"
   ]
  },
  {
   "cell_type": "code",
   "execution_count": 20,
   "metadata": {
    "collapsed": false
   },
   "outputs": [
    {
     "name": "stdout",
     "output_type": "stream",
     "text": [
      "0         0.033646\n",
      "1         0.026668\n",
      "2        -0.051521\n",
      "3         0.010712\n",
      "4        -0.031441\n",
      "5         0.012328\n",
      "6        -0.020795\n",
      "7         0.027301\n",
      "8         0.001092\n",
      "9         0.009892\n",
      "10        0.016959\n",
      "11        0.009494\n",
      "12        0.044131\n",
      "13        0.048973\n",
      "14        0.015746\n",
      "15        0.078533\n",
      "16        0.016267\n",
      "17        0.021330\n",
      "18        0.016255\n",
      "19       -0.013759\n",
      "20       -0.053401\n",
      "21        0.010882\n",
      "22        0.016085\n",
      "23        0.063053\n",
      "24        0.065987\n",
      "25        0.086602\n",
      "26        0.096020\n",
      "27        0.127762\n",
      "28        0.000832\n",
      "29       -0.094771\n",
      "            ...   \n",
      "119770   -0.037203\n",
      "119771   -0.040371\n",
      "119772   -0.019252\n",
      "119773   -0.059999\n",
      "119774   -0.015162\n",
      "119775   -0.023080\n",
      "119776    0.018333\n",
      "119777    0.010580\n",
      "119778   -0.000170\n",
      "119779    0.040365\n",
      "119780    0.033464\n",
      "119781    0.037681\n",
      "119782    0.015862\n",
      "119783    0.027868\n",
      "119784    0.003807\n",
      "119785   -0.007716\n",
      "119786   -0.016603\n",
      "119787    0.058591\n",
      "119788   -0.015647\n",
      "119789    0.038026\n",
      "119790    0.029746\n",
      "119791    0.038813\n",
      "119792    0.044931\n",
      "119793   -0.018402\n",
      "119794   -0.040907\n",
      "119795   -0.032709\n",
      "119796   -0.037067\n",
      "119797   -0.036881\n",
      "119798   -0.068406\n",
      "119799   -0.005584\n",
      "Name: Mean, dtype: float64\n",
      "119800    0.001470\n",
      "119801   -0.033889\n",
      "119802   -0.025396\n",
      "119803   -0.034707\n",
      "119804   -0.023678\n",
      "119805   -0.003812\n",
      "119806   -0.039386\n",
      "119807   -0.100835\n",
      "119808    0.036927\n",
      "119809    0.009234\n",
      "119810    0.010108\n",
      "119811   -0.015515\n",
      "119812   -0.025602\n",
      "119813   -0.019794\n",
      "119814    0.010803\n",
      "119815   -0.001564\n",
      "119816   -0.054112\n",
      "119817    0.041202\n",
      "119818   -0.050705\n",
      "119819    0.039978\n",
      "119820    0.017190\n",
      "119821    0.030170\n",
      "119822    0.009556\n",
      "119823    0.020583\n",
      "119824   -0.049439\n",
      "119825   -0.093252\n",
      "119826   -0.000595\n",
      "119827   -0.020687\n",
      "119828   -0.000442\n",
      "119829    0.016799\n",
      "            ...   \n",
      "239622    0.022340\n",
      "239623    0.022352\n",
      "239624   -0.010355\n",
      "239625   -0.019496\n",
      "239626   -0.023634\n",
      "239627   -0.011292\n",
      "239628   -0.010138\n",
      "239629   -0.086297\n",
      "239630   -0.041060\n",
      "239631   -0.087170\n",
      "239632   -0.047766\n",
      "239633   -0.026855\n",
      "239634   -0.015251\n",
      "239635    0.012806\n",
      "239636   -0.005230\n",
      "239637   -0.069076\n",
      "239638   -0.043085\n",
      "239639   -0.023786\n",
      "239640    0.006676\n",
      "239641   -0.021404\n",
      "239642   -0.040130\n",
      "239643   -0.085365\n",
      "239644   -0.058243\n",
      "239645   -0.034499\n",
      "239646   -0.018396\n",
      "239647   -0.066817\n",
      "239648    0.000730\n",
      "239649   -0.011583\n",
      "239650   -0.012266\n",
      "239651    0.018629\n",
      "Name: Mean, dtype: float64\n"
     ]
    },
    {
     "ename": "KeyError",
     "evalue": "0",
     "output_type": "error",
     "traceback": [
      "\u001b[0;31m---------------------------------------------------------------------------\u001b[0m",
      "\u001b[0;31mKeyError\u001b[0m                                  Traceback (most recent call last)",
      "\u001b[0;32m<ipython-input-20-86705a0bc027>\u001b[0m in \u001b[0;36m<module>\u001b[0;34m()\u001b[0m\n\u001b[1;32m      4\u001b[0m     \u001b[0mfd\u001b[0m \u001b[0;34m=\u001b[0m \u001b[0mdf\u001b[0m\u001b[0;34m[\u001b[0m\u001b[0mdf\u001b[0m\u001b[0;34m[\u001b[0m\u001b[0;34m'LB'\u001b[0m\u001b[0;34m]\u001b[0m \u001b[0;34m==\u001b[0m \u001b[0mk\u001b[0m\u001b[0;34m]\u001b[0m\u001b[0;34m\u001b[0m\u001b[0m\n\u001b[1;32m      5\u001b[0m     \u001b[0;32mprint\u001b[0m \u001b[0mfd\u001b[0m\u001b[0;34m[\u001b[0m\u001b[0;34m'Mean'\u001b[0m\u001b[0;34m]\u001b[0m\u001b[0;34m\u001b[0m\u001b[0m\n\u001b[0;32m----> 6\u001b[0;31m     \u001b[0maxarr\u001b[0m\u001b[0;34m[\u001b[0m\u001b[0;34m(\u001b[0m\u001b[0mk\u001b[0m\u001b[0;34m-\u001b[0m\u001b[0;36m1\u001b[0m\u001b[0;34m)\u001b[0m\u001b[0;34m%\u001b[0m\u001b[0;36m5\u001b[0m\u001b[0;34m,\u001b[0m \u001b[0;34m(\u001b[0m\u001b[0mk\u001b[0m\u001b[0;34m-\u001b[0m\u001b[0;36m1\u001b[0m\u001b[0;34m)\u001b[0m\u001b[0;34m/\u001b[0m\u001b[0;36m5\u001b[0m\u001b[0;34m]\u001b[0m\u001b[0;34m.\u001b[0m\u001b[0mhist\u001b[0m\u001b[0;34m(\u001b[0m\u001b[0mfd\u001b[0m\u001b[0;34m[\u001b[0m\u001b[0;34m'Mean'\u001b[0m\u001b[0;34m]\u001b[0m\u001b[0;34m)\u001b[0m\u001b[0;34m\u001b[0m\u001b[0m\n\u001b[0m\u001b[1;32m      7\u001b[0m     \u001b[0maxarr\u001b[0m\u001b[0;34m[\u001b[0m\u001b[0;34m(\u001b[0m\u001b[0mk\u001b[0m\u001b[0;34m-\u001b[0m\u001b[0;36m1\u001b[0m\u001b[0;34m)\u001b[0m\u001b[0;34m%\u001b[0m\u001b[0;36m5\u001b[0m\u001b[0;34m,\u001b[0m \u001b[0;34m(\u001b[0m\u001b[0mk\u001b[0m\u001b[0;34m-\u001b[0m\u001b[0;36m1\u001b[0m\u001b[0;34m)\u001b[0m\u001b[0;34m/\u001b[0m\u001b[0;36m5\u001b[0m\u001b[0;34m]\u001b[0m\u001b[0;34m.\u001b[0m\u001b[0mset_title\u001b[0m\u001b[0;34m(\u001b[0m\u001b[0mgenres\u001b[0m\u001b[0;34m[\u001b[0m\u001b[0mk\u001b[0m\u001b[0;34m-\u001b[0m\u001b[0;36m1\u001b[0m\u001b[0;34m]\u001b[0m\u001b[0;34m)\u001b[0m\u001b[0;34m\u001b[0m\u001b[0m\n\u001b[1;32m      8\u001b[0m \u001b[0mplt\u001b[0m\u001b[0;34m.\u001b[0m\u001b[0mtight_layout\u001b[0m\u001b[0;34m(\u001b[0m\u001b[0;34m)\u001b[0m\u001b[0;34m\u001b[0m\u001b[0m\n",
      "\u001b[0;32m//anaconda/lib/python2.7/site-packages/matplotlib/axes/_axes.pyc\u001b[0m in \u001b[0;36mhist\u001b[0;34m(self, x, bins, range, normed, weights, cumulative, bottom, histtype, align, orientation, rwidth, log, color, label, stacked, **kwargs)\u001b[0m\n\u001b[1;32m   5602\u001b[0m             \u001b[0mcollection\u001b[0m\u001b[0;34m.\u001b[0m\u001b[0mset_norm\u001b[0m\u001b[0;34m(\u001b[0m\u001b[0mnorm\u001b[0m\u001b[0;34m)\u001b[0m\u001b[0;34m\u001b[0m\u001b[0m\n\u001b[1;32m   5603\u001b[0m             \u001b[0mself\u001b[0m\u001b[0;34m.\u001b[0m\u001b[0madd_collection\u001b[0m\u001b[0;34m(\u001b[0m\u001b[0mcollection\u001b[0m\u001b[0;34m,\u001b[0m \u001b[0mautolim\u001b[0m\u001b[0;34m=\u001b[0m\u001b[0mFalse\u001b[0m\u001b[0;34m)\u001b[0m\u001b[0;34m\u001b[0m\u001b[0m\n\u001b[0;32m-> 5604\u001b[0;31m             \u001b[0mxl\u001b[0m\u001b[0;34m,\u001b[0m \u001b[0mxr\u001b[0m\u001b[0;34m,\u001b[0m \u001b[0myb\u001b[0m\u001b[0;34m,\u001b[0m \u001b[0myt\u001b[0m \u001b[0;34m=\u001b[0m \u001b[0mX\u001b[0m\u001b[0;34m.\u001b[0m\u001b[0mmin\u001b[0m\u001b[0;34m(\u001b[0m\u001b[0;34m)\u001b[0m\u001b[0;34m,\u001b[0m \u001b[0mX\u001b[0m\u001b[0;34m.\u001b[0m\u001b[0mmax\u001b[0m\u001b[0;34m(\u001b[0m\u001b[0;34m)\u001b[0m\u001b[0;34m,\u001b[0m \u001b[0mY\u001b[0m\u001b[0;34m.\u001b[0m\u001b[0mmin\u001b[0m\u001b[0;34m(\u001b[0m\u001b[0;34m)\u001b[0m\u001b[0;34m,\u001b[0m \u001b[0mY\u001b[0m\u001b[0;34m.\u001b[0m\u001b[0mmax\u001b[0m\u001b[0;34m(\u001b[0m\u001b[0;34m)\u001b[0m\u001b[0;34m\u001b[0m\u001b[0m\n\u001b[0m\u001b[1;32m   5605\u001b[0m             \u001b[0mret\u001b[0m \u001b[0;34m=\u001b[0m \u001b[0mcollection\u001b[0m\u001b[0;34m\u001b[0m\u001b[0m\n\u001b[1;32m   5606\u001b[0m \u001b[0;34m\u001b[0m\u001b[0m\n",
      "\u001b[0;32m//anaconda/lib/python2.7/site-packages/pandas/core/series.py\u001b[0m in \u001b[0;36m__getitem__\u001b[0;34m(self, key)\u001b[0m\n\u001b[1;32m    555\u001b[0m     \u001b[0;32mdef\u001b[0m \u001b[0m__getitem__\u001b[0m\u001b[0;34m(\u001b[0m\u001b[0mself\u001b[0m\u001b[0;34m,\u001b[0m \u001b[0mkey\u001b[0m\u001b[0;34m)\u001b[0m\u001b[0;34m:\u001b[0m\u001b[0;34m\u001b[0m\u001b[0m\n\u001b[1;32m    556\u001b[0m         \u001b[0;32mtry\u001b[0m\u001b[0;34m:\u001b[0m\u001b[0;34m\u001b[0m\u001b[0m\n\u001b[0;32m--> 557\u001b[0;31m             \u001b[0mresult\u001b[0m \u001b[0;34m=\u001b[0m \u001b[0mself\u001b[0m\u001b[0;34m.\u001b[0m\u001b[0mindex\u001b[0m\u001b[0;34m.\u001b[0m\u001b[0mget_value\u001b[0m\u001b[0;34m(\u001b[0m\u001b[0mself\u001b[0m\u001b[0;34m,\u001b[0m \u001b[0mkey\u001b[0m\u001b[0;34m)\u001b[0m\u001b[0;34m\u001b[0m\u001b[0m\n\u001b[0m\u001b[1;32m    558\u001b[0m \u001b[0;34m\u001b[0m\u001b[0m\n\u001b[1;32m    559\u001b[0m             \u001b[0;32mif\u001b[0m \u001b[0;32mnot\u001b[0m \u001b[0mnp\u001b[0m\u001b[0;34m.\u001b[0m\u001b[0misscalar\u001b[0m\u001b[0;34m(\u001b[0m\u001b[0mresult\u001b[0m\u001b[0;34m)\u001b[0m\u001b[0;34m:\u001b[0m\u001b[0;34m\u001b[0m\u001b[0m\n",
      "\u001b[0;32m//anaconda/lib/python2.7/site-packages/pandas/core/index.py\u001b[0m in \u001b[0;36mget_value\u001b[0;34m(self, series, key)\u001b[0m\n\u001b[1;32m   1788\u001b[0m \u001b[0;34m\u001b[0m\u001b[0m\n\u001b[1;32m   1789\u001b[0m         \u001b[0;32mtry\u001b[0m\u001b[0;34m:\u001b[0m\u001b[0;34m\u001b[0m\u001b[0m\n\u001b[0;32m-> 1790\u001b[0;31m             \u001b[0;32mreturn\u001b[0m \u001b[0mself\u001b[0m\u001b[0;34m.\u001b[0m\u001b[0m_engine\u001b[0m\u001b[0;34m.\u001b[0m\u001b[0mget_value\u001b[0m\u001b[0;34m(\u001b[0m\u001b[0ms\u001b[0m\u001b[0;34m,\u001b[0m \u001b[0mk\u001b[0m\u001b[0;34m)\u001b[0m\u001b[0;34m\u001b[0m\u001b[0m\n\u001b[0m\u001b[1;32m   1791\u001b[0m         \u001b[0;32mexcept\u001b[0m \u001b[0mKeyError\u001b[0m \u001b[0;32mas\u001b[0m \u001b[0me1\u001b[0m\u001b[0;34m:\u001b[0m\u001b[0;34m\u001b[0m\u001b[0m\n\u001b[1;32m   1792\u001b[0m             \u001b[0;32mif\u001b[0m \u001b[0mlen\u001b[0m\u001b[0;34m(\u001b[0m\u001b[0mself\u001b[0m\u001b[0;34m)\u001b[0m \u001b[0;34m>\u001b[0m \u001b[0;36m0\u001b[0m \u001b[0;32mand\u001b[0m \u001b[0mself\u001b[0m\u001b[0;34m.\u001b[0m\u001b[0minferred_type\u001b[0m \u001b[0;32min\u001b[0m \u001b[0;34m[\u001b[0m\u001b[0;34m'integer'\u001b[0m\u001b[0;34m,\u001b[0m\u001b[0;34m'boolean'\u001b[0m\u001b[0;34m]\u001b[0m\u001b[0;34m:\u001b[0m\u001b[0;34m\u001b[0m\u001b[0m\n",
      "\u001b[0;32mpandas/index.pyx\u001b[0m in \u001b[0;36mpandas.index.IndexEngine.get_value (pandas/index.c:3204)\u001b[0;34m()\u001b[0m\n",
      "\u001b[0;32mpandas/index.pyx\u001b[0m in \u001b[0;36mpandas.index.IndexEngine.get_value (pandas/index.c:2903)\u001b[0;34m()\u001b[0m\n",
      "\u001b[0;32mpandas/index.pyx\u001b[0m in \u001b[0;36mpandas.index.IndexEngine.get_loc (pandas/index.c:3843)\u001b[0;34m()\u001b[0m\n",
      "\u001b[0;32mpandas/hashtable.pyx\u001b[0m in \u001b[0;36mpandas.hashtable.Int64HashTable.get_item (pandas/hashtable.c:6525)\u001b[0;34m()\u001b[0m\n",
      "\u001b[0;32mpandas/hashtable.pyx\u001b[0m in \u001b[0;36mpandas.hashtable.Int64HashTable.get_item (pandas/hashtable.c:6463)\u001b[0;34m()\u001b[0m\n",
      "\u001b[0;31mKeyError\u001b[0m: 0"
     ]
    },
    {
     "data": {
      "image/png": "[encoded data removed]",
      "text/plain": [
       "<matplotlib.figure.Figure at 0x10f169690>"
      ]
     },
     "metadata": {},
     "output_type": "display_data"
    }
   ],
   "source": [
    "df = pd.DataFrame(data = zip(labels, frames, means), columns=['LB', 'Frame', 'Mean'])\n",
    "f, axarr = plt.subplots(5, 2)# figsize=(15,15))\n",
    "for k in range(1,11):\n",
    "    fd = df[df['LB'] == k]\n",
    "    print fd['Mean']\n",
    "    axarr[(k-1)%5, (k-1)/5].hist(fd['Mean'])\n",
    "    axarr[(k-1)%5, (k-1)/5].set_title(genres[k-1])\n",
    "plt.tight_layout()\n",
    "plt.show()"
   ]
  },
  {
   "cell_type": "code",
   "execution_count": 10,
   "metadata": {
    "collapsed": false
   },
   "outputs": [
    {
     "data": {
      "text/plain": [
       "Index([u'LB', u'Frame', u'Mean'], dtype='object')"
      ]
     },
     "execution_count": 10,
     "metadata": {},
     "output_type": "execute_result"
    }
   ],
   "source": []
  },
  {
   "cell_type": "code",
   "execution_count": null,
   "metadata": {
    "collapsed": true
   },
   "outputs": [],
   "source": [
    "genres = [\"Blues\", \"Classical\", \"Country\", \"Disco\", \"Hiphop\", \"Jazz\", \"Metal\", \"Pop\", \"Reggae\", \"Rock\"]\n",
    "f, axarr = plt.subplots(5, 2,figsize=(15,15))\n",
    "\n",
    "for i in range(1,11):\n",
    "    data = mfcc[lb == i]\n",
    "    #For each song\n",
    "    for j in range(len(data)):\n",
    "        test = data[j].T\n",
    "        N = len(np.mean(test, axis=1))\n",
    "        means = means + list(np.mean(test, axis=1))\n",
    "        frames = frames +  range(N)\n",
    "        labels = labels + [i for k in range(N)] \n",
    "df = pd.DataFrame(data = zip(labels, frames, means), columns=['LB', 'Frame', 'Mean'])\n",
    "for k in range(1,11):\n",
    "    fd = df[df['LB'] == k]\n",
    "    axarr[(k-1)%5, (k-1)/5].hist(np.diff(fd[\"Mean\"]))\n",
    "    axarr[(k-1)%5, (k-1)/5].set_title(genres[k-1] + \" diff\")\n",
    "plt.tight_layout()\n",
    "plt.show()"
   ]
  },
  {
   "cell_type": "code",
   "execution_count": 34,
   "metadata": {
    "collapsed": false
   },
   "outputs": [
    {
     "name": "stdout",
     "output_type": "stream",
     "text": [
      "\u001b[?1h\u001b=\n",
      "                            < M A T L A B (R) >\n",
      "                  Copyright 1984-2015 The MathWorks, Inc.\n",
      "                   R2015b (8.6.0.267246) 64-bit (maci64)\n",
      "                              August 20, 2015\n",
      "\n",
      " \n",
      "To get started, type one of these: helpwin, helpdesk, or demo.\n",
      "For product information, visit www.mathworks.com.\n",
      " \n",
      "    ----------------------------------------------------\n",
      "\tYour MATLAB license will expire in 22 days.\n",
      "\tPlease contact your system administrator or\n",
      "\tMathWorks to renew this license.\n",
      "    ----------------------------------------------------\n",
      "\n",
      "\tAcademic License\n",
      "\n",
      "\u001b[?1l\u001b>COS424_HW1_Precept.ipynb Graphing_Demo.ipynb      \u001b[34mdata\u001b[m\u001b[m\n",
      "Chroma.mat               LB.mat                   featureTable.png\n",
      "FV.mat                   README.md                \u001b[34mtools\u001b[m\u001b[m\n",
      "FV_concat.m              collect_chroma.m\n"
     ]
    }
   ],
   "source": [
    "workingdir = '/Users/Ted/__Princeton/__G2_Spring/__COS_424/voxDemo'\n",
    "!cd {workingdir} \n",
    "!/Applications/MATLAB_R2015b.app/bin/matlab -nodisplay -nosplash -nodesktop -r \"run('collect_chroma.m');exit;\"\n",
    "!ls"
   ]
  },
  {
   "cell_type": "code",
   "execution_count": 40,
   "metadata": {
    "collapsed": false
   },
   "outputs": [
    {
     "name": "stdout",
     "output_type": "stream",
     "text": [
      "[[ 525431.45476616]\n",
      " [ 459330.08183666]\n",
      " [ 488838.99967986]\n",
      " [ 411376.21368994]\n",
      " [ 423449.32157489]\n",
      " [ 386598.77690254]\n",
      " [ 350534.2946914 ]\n",
      " [ 537587.08170245]\n",
      " [ 603282.21193151]\n",
      " [ 612646.5400831 ]\n",
      " [ 545593.00517702]\n",
      " [ 530230.96545164]]\n"
     ]
    }
   ],
   "source": [
    "fileN = '/Users/Ted/__Princeton/__G2_Spring/__COS_424/voxDemo/Chroma.mat'\n",
    "X = spio.loadmat(fileN)['chroma'][0,:]\n",
    "totals = sum(X)\n",
    "print totals\n",
    "plt.figure()\n",
    "plt.title('Chroma for blues00003 frames')\n",
    "plt.xlabel('Chroma')\n",
    "plt.ylabel('Magnitude')\n",
    "plt.bar(range(0,totals.shape[0]),sum(totals.T))\n",
    "plt.show()"
   ]
  },
  {
   "cell_type": "markdown",
   "metadata": {},
   "source": [
    "# More Graphs!!!"
   ]
  },
  {
   "cell_type": "code",
   "execution_count": 15,
   "metadata": {
    "collapsed": false
   },
   "outputs": [
    {
     "name": "stdout",
     "output_type": "stream",
     "text": [
      "Average error 0: 60.97%\n",
      "Average error 1: 57.51%\n",
      "Average error 2: 49.60%\n",
      "Average error 3: 46.75%\n",
      "Average error 4: 46.24%\n",
      "Average error 5: 46.14%\n"
     ]
    }
   ],
   "source": [
    "import random as random\n",
    "import scipy.stats as stats\n",
    "from sklearn.ensemble import RandomForestClassifier\n",
    "from sklearn.metrics import zero_one_loss\n",
    "from sklearn.cross_validation import StratifiedKFold\n",
    "\n",
    "FVs = '/Users/Ted/__Princeton/__G2_Spring/__COS_424/voxDemo/FV.mat'\n",
    "LBs = '/Users/Ted/__Princeton/__G2_Spring/__COS_424/voxDemo/LB.mat'\n",
    "mfcc = spio.loadmat(FVs)['FV']\n",
    "labels = spio.loadmat(LBs)['LB'][0]\n",
    "N = mfcc.shape[1]\n",
    "\n",
    "\n",
    "k = 10\n",
    "\n",
    "\n",
    "nLearners = np.array([5,10,25,50,100,250])\n",
    "averageError = np.zeros(nLearners.shape)\n",
    "for i in range(0,len(nLearners)):\n",
    "    maxLearners = nLearners[i]\n",
    "    skf = StratifiedKFold(labels,n_folds=k)\n",
    "    for train_index, test_index in skf:\n",
    "        X_train, X_test = mfcc[:,train_index], mfcc[:,test_index]\n",
    "        y_train, y_test = labels[train_index], labels[test_index]\n",
    "        rf = RandomForestClassifier(n_estimators=maxLearners, max_depth = 5, warm_start = False)\n",
    "        rf.fit(X_train.T,y_train)\n",
    "        y_pred = rf.predict(X_test.T)\n",
    "        error = zero_one_loss(y_pred,y_test)\n",
    "        averageError[i] += (1./k) * error\n",
    "    print \"Average error %d: %4.2f%s\" % (i, 100 * averageError[i],'%')\n",
    "\n"
   ]
  },
  {
   "cell_type": "code",
   "execution_count": 17,
   "metadata": {
    "collapsed": false
   },
   "outputs": [
    {
     "data": {
      "image/png": "[encoded data removed]",
      "text/plain": [
       "<matplotlib.figure.Figure at 0x120f90fd0>"
      ]
     },
     "metadata": {},
     "output_type": "display_data"
    }
   ],
   "source": [
    "plt.figure()\n",
    "plt.plot(nLearners,averageError,'b',lw = 2)\n",
    "plt.plot(nLearners,np.ones(nLearners.shape) * 0.9,'r',lw = 1)\n",
    "plt.xlabel('Number of Learners')\n",
    "plt.ylabel('Error Rate')\n",
    "plt.title('Random Forest Performance')\n",
    "plt.show()"
   ]
  },
  {
   "cell_type": "code",
   "execution_count": null,
   "metadata": {
    "collapsed": true
   },
   "outputs": [],
   "source": []
  }
 ],
 "metadata": {
  "kernelspec": {
   "display_name": "Python 2",
   "language": "python",
   "name": "python2"
  },
  "language_info": {
   "codemirror_mode": {
    "name": "ipython",
    "version": 2
   },
   "file_extension": ".py",
   "mimetype": "text/x-python",
   "name": "python",
   "nbconvert_exporter": "python",
   "pygments_lexer": "ipython2",
   "version": "2.7.11"
  }
 },
 "nbformat": 4,
 "nbformat_minor": 0
}
